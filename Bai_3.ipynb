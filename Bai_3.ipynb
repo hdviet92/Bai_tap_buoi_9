{
 "cells": [
  {
   "cell_type": "code",
   "execution_count": 1,
   "id": "f218374b",
   "metadata": {},
   "outputs": [
    {
     "name": "stdout",
     "output_type": "stream",
     "text": [
      "nhập 1 số tự nhiên: -1\n",
      "Không hợp lệ\n"
     ]
    }
   ],
   "source": [
    "a = int(input('nhập 1 số tự nhiên: '))\n",
    "\n",
    "if a == 0:\n",
    "    print('Thứ 2')\n",
    "elif a == 1:\n",
    "    print ('Thứ 3')\n",
    "elif a == 2:\n",
    "    print ('Thứ 4')\n",
    "elif a == 3:\n",
    "    print ('Thứ 5')\n",
    "elif a == 4:\n",
    "    print ('Thứ 6')\n",
    "elif a == 5:\n",
    "    print ('Thứ 7')\n",
    "elif a == 6:\n",
    "    print ('Chủ nhật')\n",
    "elif a < 0 or a > 6:\n",
    "    print ('Không hợp lệ')"
   ]
  }
 ],
 "metadata": {
  "kernelspec": {
   "display_name": "Python 3 (ipykernel)",
   "language": "python",
   "name": "python3"
  },
  "language_info": {
   "codemirror_mode": {
    "name": "ipython",
    "version": 3
   },
   "file_extension": ".py",
   "mimetype": "text/x-python",
   "name": "python",
   "nbconvert_exporter": "python",
   "pygments_lexer": "ipython3",
   "version": "3.9.7"
  }
 },
 "nbformat": 4,
 "nbformat_minor": 5
}
