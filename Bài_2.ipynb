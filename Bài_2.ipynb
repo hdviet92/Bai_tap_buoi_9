{
 "cells": [
  {
   "cell_type": "code",
   "execution_count": 1,
   "id": "e7d8d265",
   "metadata": {},
   "outputs": [
    {
     "name": "stdout",
     "output_type": "stream",
     "text": [
      "Nhập số phút: 190\n",
      "Tiền điện thoại trong tháng:  111000\n"
     ]
    }
   ],
   "source": [
    "time = int(input('Nhập số phút: '))\n",
    "\n",
    "if time <= 50:\n",
    "    print ('Tiền điện thoại trong tháng: ', 25000 + time*600)\n",
    "elif 50 < time <= 200:\n",
    "    print ('Tiền điện thoại trong tháng: ', 25000 + 50*600 + (time-50)*400)\n",
    "elif time > 200:\n",
    "    print ('Tiền điện thoại trong tháng: ', 25000 + 50*600 + 150*400 + (time-200)*200)\n",
    "        \n",
    "    \n",
    "#print ('Tiền điện thoại trong tháng: ', cost)"
   ]
  }
 ],
 "metadata": {
  "kernelspec": {
   "display_name": "Python 3 (ipykernel)",
   "language": "python",
   "name": "python3"
  },
  "language_info": {
   "codemirror_mode": {
    "name": "ipython",
    "version": 3
   },
   "file_extension": ".py",
   "mimetype": "text/x-python",
   "name": "python",
   "nbconvert_exporter": "python",
   "pygments_lexer": "ipython3",
   "version": "3.9.7"
  }
 },
 "nbformat": 4,
 "nbformat_minor": 5
}
