{
 "cells": [
  {
   "cell_type": "code",
   "execution_count": 1,
   "id": "669059d0",
   "metadata": {},
   "outputs": [
    {
     "name": "stdout",
     "output_type": "stream",
     "text": [
      "Số phút đã gọi: 12\n",
      "Phí đăng ký thuê bao: 25000 đồng\n",
      "Phí cước gọi từ 50 phút trở xuống: 7200 đồng\n",
      "Tổng tiền điện thoại: 32200 đồng\n"
     ]
    }
   ],
   "source": [
    "time = int(input('Số phút đã gọi: '))\n",
    "cuoc = 25000\n",
    "\n",
    "if time < 0:\n",
    "    print ('Erorr!!')\n",
    "else:\n",
    "    print ('Phí đăng ký thuê bao: {cuoc} đồng'.format(cuoc=cuoc))\n",
    "    if time == 0:\n",
    "        cost0 = 0\n",
    "        print ('Không có phí cước gọi')\n",
    "    elif time <=50:\n",
    "        cost0 = time*600\n",
    "        print('Phí cước gọi từ 50 phút trở xuống: {cost0} đồng'.format(cost0=cost0))\n",
    "    elif time > 50:\n",
    "        cost0 = 50*600\n",
    "        print('Phí cước gọi từ 50 phút trở xuống: {cost0} đồng'.format(cost0=cost0))\n",
    "    if 50 < time <=200:\n",
    "        cost1 = (time-50)*400\n",
    "        print('Phí cước gọi từ 50 phút đến 200 phút: {cost1} đồng'.format(cost1=cost1))\n",
    "    elif time > 200:\n",
    "        cost1 = 150*400\n",
    "        print ('Phí cước gọi từ 50 phút đến 200 phút: {cost1} đồng'.format(cost1=cost1))\n",
    "    if time > 200:\n",
    "        cost2 = (time-200)*200\n",
    "        print('Phí cước gọi trên 200 phút: {cost2} đồng'.format(cost2=cost2))\n",
    "if time <= 50:\n",
    "    print ('Tổng tiền điện thoại: {b} đồng'.format(b = cuoc + cost0))\n",
    "elif time <= 200:\n",
    "    print ('Tổng tiền điện thoại: {c} đồng'.format(c = cuoc + cost0 + cost1))\n",
    "elif time > 200:\n",
    "    print ('Tổng tiền điện thoại: {d} đồng'.format(d = cuoc + cost0+ cost1 + cost2))"
   ]
  },
  {
   "cell_type": "code",
   "execution_count": null,
   "id": "c85a2ed2",
   "metadata": {},
   "outputs": [],
   "source": []
  }
 ],
 "metadata": {
  "kernelspec": {
   "display_name": "Python 3 (ipykernel)",
   "language": "python",
   "name": "python3"
  },
  "language_info": {
   "codemirror_mode": {
    "name": "ipython",
    "version": 3
   },
   "file_extension": ".py",
   "mimetype": "text/x-python",
   "name": "python",
   "nbconvert_exporter": "python",
   "pygments_lexer": "ipython3",
   "version": "3.9.7"
  }
 },
 "nbformat": 4,
 "nbformat_minor": 5
}
