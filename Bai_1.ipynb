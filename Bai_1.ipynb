{
 "cells": [
  {
   "cell_type": "code",
   "execution_count": 1,
   "id": "ff5b2d75",
   "metadata": {},
   "outputs": [
    {
     "name": "stdout",
     "output_type": "stream",
     "text": [
      "Nhập số tự nhiên thứ nhất: 465\n",
      "Nhập số tự nhiên thứ hai: 455\n",
      "Nhập số tự nhiên thứ ba: 686\n",
      "3 số không phải là bộ số Pitago\n",
      "END\n"
     ]
    }
   ],
   "source": [
    "import math\n",
    "\n",
    "# Nhập biến\n",
    "a = int(input('Nhập số tự nhiên thứ nhất: '))\n",
    "b = int(input('Nhập số tự nhiên thứ hai: '))\n",
    "c = int(input('Nhập số tự nhiên thứ ba: '))\n",
    "\n",
    "# Kiểm tra 3 số có phải là bộ số Pitago hay không\n",
    "if math.pow(a,2)+pow(b,2)==pow(c,2) or pow(a,2)+pow(c,2)==pow(b,2) or pow(b,2)+pow(c,2)==pow(a,2):\n",
    "    print ('3 số là bộ số Pitago')\n",
    "else:\n",
    "    print('3 số không phải là bộ số Pitago')\n",
    "\n",
    "# Kết thúc \n",
    "print('END')\n"
   ]
  },
  {
   "cell_type": "markdown",
   "id": "31619386",
   "metadata": {},
   "source": [
    "### "
   ]
  },
  {
   "cell_type": "code",
   "execution_count": null,
   "id": "d91280d8",
   "metadata": {},
   "outputs": [],
   "source": []
  }
 ],
 "metadata": {
  "kernelspec": {
   "display_name": "Python 3 (ipykernel)",
   "language": "python",
   "name": "python3"
  },
  "language_info": {
   "codemirror_mode": {
    "name": "ipython",
    "version": 3
   },
   "file_extension": ".py",
   "mimetype": "text/x-python",
   "name": "python",
   "nbconvert_exporter": "python",
   "pygments_lexer": "ipython3",
   "version": "3.9.7"
  }
 },
 "nbformat": 4,
 "nbformat_minor": 5
}
